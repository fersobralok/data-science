{
  "nbformat": 4,
  "nbformat_minor": 0,
  "metadata": {
    "colab": {
      "name": "Untitled0.ipynb",
      "provenance": [],
      "authorship_tag": "ABX9TyPV7Z6SpbqgzFqQoD001XpQ",
      "include_colab_link": true
    },
    "kernelspec": {
      "name": "python3",
      "display_name": "Python 3"
    },
    "language_info": {
      "name": "python"
    }
  },
  "cells": [
    {
      "cell_type": "markdown",
      "metadata": {
        "id": "view-in-github",
        "colab_type": "text"
      },
      "source": [
        "<a href=\"https://colab.research.google.com/github/fersobralok/data-science/blob/main/Notebook001.ipynb\" target=\"_parent\"><img src=\"https://colab.research.google.com/assets/colab-badge.svg\" alt=\"Open In Colab\"/></a>"
      ]
    },
    {
      "cell_type": "markdown",
      "source": [
        "Acá comenzamos a escribir algo\n",
        "\n",
        "Este notebook editor es bastante malo\n",
        "\n"
      ],
      "metadata": {
        "id": "HXYpQd_A9O6R"
      }
    },
    {
      "cell_type": "code",
      "execution_count": 7,
      "metadata": {
        "id": "KC9PDHTFtYNG",
        "colab": {
          "base_uri": "https://localhost:8080/"
        },
        "outputId": "258c3443-0de4-4130-8a9e-e3a44b05a6dd"
      },
      "outputs": [
        {
          "output_type": "stream",
          "name": "stdout",
          "text": [
            "12\n",
            "HolaMundo\n"
          ]
        }
      ],
      "source": [
        "#arrancamos comentando\n",
        "entero = 34 - 23\n",
        "cadena = 'Hola'\n",
        "decimal = 3.45\n",
        "if decimal == 3.45 or cadena == 'Hola':\n",
        "  entero = entero + 1\n",
        "  cadena = cadena + 'Mundo'\n",
        "print(entero)\n",
        "print(cadena)"
      ]
    },
    {
      "cell_type": "markdown",
      "source": [
        "Ahora vamos a incluir un input"
      ],
      "metadata": {
        "id": "yMOnbLK9hG-k"
      }
    },
    {
      "cell_type": "code",
      "source": [
        "valor = input('Ingrese valor a imprimir: ')\n",
        "print('El valor tipeado es ' + valor)"
      ],
      "metadata": {
        "colab": {
          "base_uri": "https://localhost:8080/"
        },
        "id": "O3tX65sU8wOz",
        "outputId": "a891fc7d-9544-4a6e-ba29-0de1ca1c138b"
      },
      "execution_count": 3,
      "outputs": [
        {
          "output_type": "stream",
          "name": "stdout",
          "text": [
            "Ingrese valor a imprimir: perico\n",
            "El valor tipeado es perico\n"
          ]
        }
      ]
    },
    {
      "cell_type": "markdown",
      "source": [
        "Vamos por ejercicios con tuplas, listas y strings. Primero definimos las variables."
      ],
      "metadata": {
        "id": "62ZnMUonvaZK"
      }
    },
    {
      "cell_type": "code",
      "source": [
        "tupla1 = (2, 4, 6, 8)\n",
        "tupla2 = (20, 40, 60, 80)\n",
        "lista1 = [1, 3, 5, 7]\n",
        "lista2 = [10, 30, 50, 70]\n",
        "print(tupla1)\n",
        "print(tupla2)\n",
        "print(lista1)\n",
        "print(lista2)\n",
        "\n"
      ],
      "metadata": {
        "colab": {
          "base_uri": "https://localhost:8080/"
        },
        "id": "2NZDp2qdvghI",
        "outputId": "289d861f-ef93-4349-bd4c-487e2026a725"
      },
      "execution_count": 18,
      "outputs": [
        {
          "output_type": "stream",
          "name": "stdout",
          "text": [
            "(2, 4, 6, 8)\n",
            "(20, 40, 60, 80)\n",
            "[1, 3, 5, 7]\n",
            "[10, 30, 50, 70]\n"
          ]
        }
      ]
    },
    {
      "cell_type": "markdown",
      "source": [
        "Hacemos algunas operaciones. Multiplicación de tupla por escalar y suma de tuplas."
      ],
      "metadata": {
        "id": "L8cyycuBybrB"
      }
    },
    {
      "cell_type": "code",
      "source": [
        "print(tupla1 * 3 + tupla2 * 2)\n",
        "print(tupla1[2])\n"
      ],
      "metadata": {
        "colab": {
          "base_uri": "https://localhost:8080/"
        },
        "id": "cpl8KhVLyjDj",
        "outputId": "5bc395e5-0ddc-41be-a5ff-66a9da8c37e1"
      },
      "execution_count": 20,
      "outputs": [
        {
          "output_type": "stream",
          "name": "stdout",
          "text": [
            "(2, 4, 6, 8, 2, 4, 6, 8, 2, 4, 6, 8, 20, 40, 60, 80, 20, 40, 60, 80)\n",
            "6\n"
          ]
        }
      ]
    },
    {
      "cell_type": "markdown",
      "source": [
        "Cambio de valor en elemento de lista. En tupla no se puede hacer. Luego Operamos."
      ],
      "metadata": {
        "id": "Zzymq4b7zMm6"
      }
    },
    {
      "cell_type": "code",
      "source": [
        "#Cambiamos el valor del 3er elemento\n",
        "lista1[2] = 6\n",
        "\n",
        "print('lista1 es ' + str(lista1))\n",
        "print('lista2 es ' + str(lista2))\n",
        "lista1+=lista2\n",
        "print('lista1 es ' + str(lista1))\n"
      ],
      "metadata": {
        "colab": {
          "base_uri": "https://localhost:8080/"
        },
        "id": "jUHT5mrmzVAK",
        "outputId": "afd1b924-fc0a-499a-ca7f-8abd4d421715"
      },
      "execution_count": 22,
      "outputs": [
        {
          "output_type": "stream",
          "name": "stdout",
          "text": [
            "lista1 es [1, 3, 6, 7, 10, 30, 50, 70, 10, 30, 50, 70]\n",
            "lista2 es [10, 30, 50, 70]\n",
            "lista1 es [1, 3, 6, 7, 10, 30, 50, 70, 10, 30, 50, 70, 10, 30, 50, 70]\n"
          ]
        }
      ]
    }
  ]
}